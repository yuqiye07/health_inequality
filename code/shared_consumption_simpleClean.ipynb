{
 "cells": [
  {
   "cell_type": "markdown",
   "id": "03e38874",
   "metadata": {},
   "source": [
    "## packages"
   ]
  },
  {
   "cell_type": "code",
   "execution_count": 1,
   "id": "704f9132",
   "metadata": {
    "ExecuteTime": {
     "end_time": "2024-03-09T10:39:42.256295Z",
     "start_time": "2024-03-09T10:39:40.725282Z"
    }
   },
   "outputs": [],
   "source": [
    "import tarfile\n",
    "import os\n",
    "import pandas as pd\n",
    "import seaborn as sns\n",
    "import matplotlib.pyplot as plt"
   ]
  },
  {
   "cell_type": "code",
   "execution_count": 2,
   "id": "ec9ca2be",
   "metadata": {
    "ExecuteTime": {
     "end_time": "2024-03-09T10:39:46.183291Z",
     "start_time": "2024-03-09T10:39:46.179321Z"
    }
   },
   "outputs": [],
   "source": [
    "os.chdir(\"/Users/yeyuqi/Desktop/RA_inequality/\")"
   ]
  },
  {
   "cell_type": "markdown",
   "id": "361714b0",
   "metadata": {},
   "source": [
    "## trips"
   ]
  },
  {
   "cell_type": "code",
   "execution_count": 136,
   "id": "c3326482",
   "metadata": {
    "ExecuteTime": {
     "end_time": "2024-03-21T19:09:02.810869Z",
     "start_time": "2024-03-21T19:09:02.804225Z"
    }
   },
   "outputs": [],
   "source": [
    "trip_cols = {\"trip_code_uc\" : str,\n",
    "            \"household_code\" : str,\n",
    "            \"purchase_date\": str,\n",
    "            \"retailer_code\": str,\n",
    "            \"store_code_uc\" : str,\n",
    "            \"panel_year\" : str,\n",
    "            \"store_zip3\" : str,\n",
    "            \"total_spent\" : float}"
   ]
  },
  {
   "cell_type": "code",
   "execution_count": 137,
   "id": "83c6b69d",
   "metadata": {
    "ExecuteTime": {
     "end_time": "2024-03-21T19:09:20.763095Z",
     "start_time": "2024-03-21T19:09:04.261467Z"
    }
   },
   "outputs": [],
   "source": [
    "year_paths = {year: f'{year}/Annual_Files/trips_{year}.tsv' for year in range(2016, 2017)}\n",
    "year_paths[2021] = '2021/Annual_Files/trip.tsv' \n",
    "\n",
    "dfs = []\n",
    "for year, path in year_paths.items():\n",
    "    df = pd.read_csv(path, sep='\\t', usecols=trip_cols.keys(), dtype=trip_cols)\n",
    "    if year == 2021:\n",
    "        df = df.iloc[:, :-1]  # Drop the last column for 2021\n",
    "    dfs.append(df)\n",
    "\n",
    "# Concatenate all DataFrames into one\n",
    "df_trips = pd.concat(dfs, ignore_index=True)\n"
   ]
  },
  {
   "cell_type": "markdown",
   "id": "a94be3f6",
   "metadata": {},
   "source": [
    "## purchases"
   ]
  },
  {
   "cell_type": "code",
   "execution_count": 79,
   "id": "f3893777",
   "metadata": {
    "ExecuteTime": {
     "end_time": "2024-03-16T19:14:11.419299Z",
     "start_time": "2024-03-16T19:14:11.413309Z"
    }
   },
   "outputs": [],
   "source": [
    "purchases_cols_batch1 = {\"trip_code_uc\" : \"category\",\n",
    "                         \"upc\": \"category\",\n",
    "                         \"upc_ver_uc\" : \"category\",\n",
    "                         \"quantity\" : int,\n",
    "                         \"total_price_paid\": float,\n",
    "                         \"coupon_value\" : float}\n",
    "\n",
    "purchases_cols_batch2 = {\"trip_code_uc\" : \"category\",\n",
    "                         \"upc\": \"category\",\n",
    "                         \"quantity\" : int,\n",
    "                         \"total_price_paid\": float,\n",
    "                         \"coupon_value\" : float,\n",
    "                         \"panel_year\": \"category\"}\n",
    "# next, add panel_year to batch 1 data; add upc version to batch 2 data"
   ]
  },
  {
   "cell_type": "code",
   "execution_count": 82,
   "id": "d647bfe9",
   "metadata": {
    "ExecuteTime": {
     "end_time": "2024-03-16T19:18:59.841873Z",
     "start_time": "2024-03-16T19:17:20.127010Z"
    }
   },
   "outputs": [],
   "source": [
    "# 2004-2020 purchase data\n",
    "year_paths = {year: f'{year}/Annual_Files/purchases_{year}.tsv' for year in range(2004, 2006)}\n",
    "\n",
    "dfs = []\n",
    "for year, path in year_paths.items():\n",
    "    df = pd.read_csv(path, sep='\\t', usecols=purchases_cols_batch1.keys(), \n",
    "                     dtype=purchases_cols_batch1)\n",
    "    df['panel_year'] = year\n",
    "    dfs.append(df)\n",
    "# Concatenate all DataFrames into one\n",
    "df_purchases_batch1 = pd.concat(dfs, ignore_index=True)"
   ]
  },
  {
   "cell_type": "code",
   "execution_count": 84,
   "id": "22a53c2b",
   "metadata": {
    "ExecuteTime": {
     "end_time": "2024-03-16T19:22:29.192481Z",
     "start_time": "2024-03-16T19:20:35.953973Z"
    }
   },
   "outputs": [],
   "source": [
    "# 2021 purchase data\n",
    "with open('2021/Annual_Files/purchase.tsv','r') as file:\n",
    "    df_purchases_batch2 = pd.read_csv(file, sep='\\t',\n",
    "                               usecols = purchases_cols_batch2.keys(),\n",
    "                               dtype = purchases_cols_batch2)\n",
    "\n",
    "    \n",
    "df_purchases_batch2.insert(loc=2, column='upc_ver_uc', value=\"no_version\")\n",
    "\n",
    "# combine 2 batches\n",
    "df_purchases = pd.concat([df_purchases_batch1,df_purchases_batch2], ignore_index=True)"
   ]
  },
  {
   "cell_type": "markdown",
   "id": "3cda175a",
   "metadata": {},
   "source": [
    "## products"
   ]
  },
  {
   "cell_type": "markdown",
   "id": "faeeb78b",
   "metadata": {},
   "source": [
    "2021 <br>\n",
    "**product attributes** <br>\n",
    "'upc', 'BRAND', 'BRAND_cd', 'PROTEIN_GRAM', 'PROTEIN_GRAM_cd',\n",
    "       'COMMODITY_GROUP', 'COMMODITY_GROUP_cd',\n",
    "       'MANUFACTURER_SUGGESTED_PRICE_CLAIM',\n",
    "       'MANUFACTURER_SUGGESTED_PRICE_CLAIM_cd', 'CHOLESTEROL',\n",
    "       'CHOLESTEROL_cd', 'SODIUM_PRESENCE_CLAIM', 'SODIUM_PRESENCE_CLAIM_cd',\n",
    "       'FAT_CALORIE_PER_SERVING_SIZE', 'FAT_CALORIE_PER_SERVING_SIZE_cd',\n",
    "       'SUGAR_GRAM', 'SUGAR_GRAM_cd', 'COMPETITIVE_CATEGORY_OGRDS',\n",
    "       'COMPETITIVE_CATEGORY_OGRDS_cd', 'PACKAGE_PRESENTATION_OPTION',\n",
    "       'PACKAGE_PRESENTATION_OPTION_cd', 'ADDITIONAL_INFORMATION',\n",
    "       'ADDITIONAL_INFORMATION_cd', 'MANUFACTURING_PROCESS',\n",
    "       'MANUFACTURING_PROCESS_cd', 'SERVING_SIZE_HOUSEHOLD',\n",
    "       'SERVING_SIZE_HOUSEHOLD_cd', 'TRANS_FAT_GRAM', 'TRANS_FAT_GRAM_cd',\n",
    "       'SERVING_SIZE_METRIC', 'SERVING_SIZE_METRIC_cd',\n",
    "       'CALORIES_PER_SERVING_SIZE', 'CALORIES_PER_SERVING_SIZE_cd',\n",
    "       'SECONDARY_SIZE', 'SECONDARY_SIZE_cd', 'TOTAL_SIZE', 'TOTAL_SIZE_cd',\n",
    "       'ORGANIC_CLAIM', 'ORGANIC_CLAIM_cd', 'GENETIC_MODIFICATION_CLAIM',\n",
    "       'GENETIC_MODIFICATION_CLAIM_cd', 'TOTAL_CARBOHYDRATE_GRAM',\n",
    "       'TOTAL_CARBOHYDRATE_GRAM_cd', 'FLAVOR', 'FLAVOR_cd',\n",
    "       'TARGET_GROUP_GENDER', 'TARGET_GROUP_GENDER_cd',\n",
    "       'MANUFACTURER_SUGGESTED_PRICE', 'MANUFACTURER_SUGGESTED_PRICE_cd',\n",
    "       'PREPRICED', 'PREPRICED_cd', 'NUTRITIONAL_HEALTH_CLAIM',\n",
    "       'NUTRITIONAL_HEALTH_CLAIM_cd', 'USDA_ORGANIC_SEAL',\n",
    "       'USDA_ORGANIC_SEAL_cd', 'FORMULATION', 'FORMULATION_cd',\n",
    "       'STRATEGIC_INGREDIENT_PRESENCE_CLAIM',\n",
    "       'STRATEGIC_INGREDIENT_PRESENCE_CLAIM_cd', 'FAT_PRESENCE_CLAIM',\n",
    "       'FAT_PRESENCE_CLAIM_cd', 'PRICE_REDUCTION', 'PRICE_REDUCTION_cd',\n",
    "       'TOTAL_FAT_GRAM', 'TOTAL_FAT_GRAM_cd', 'SERVING_PER_CONTAINER',\n",
    "       'SERVING_PER_CONTAINER_cd', 'SATURATED_FAT_GRAM',\n",
    "       'SATURATED_FAT_GRAM_cd', 'FORM', 'FORM_cd', 'PRODUCT_SIZE',\n",
    "       'PRODUCT_SIZE_cd', 'BASE_SIZE', 'BASE_SIZE_cd', 'PACKAGE_GENERAL_SHAPE',\n",
    "       'PACKAGE_GENERAL_SHAPE_cd', 'CALORIE_CLAIM', 'CALORIE_CLAIM_cd',\n",
    "       'PACKAGE_MATERIAL_SUBSTANCE', 'PACKAGE_MATERIAL_SUBSTANCE_cd', 'SODIUM',\n",
    "       'SODIUM_cd', 'DIETARY_FIBER', 'DIETARY_FIBER_cd', 'CLAIM', 'CLAIM_cd',\n",
    "       'COMMON_CONSUMER_NAME', 'COMMON_CONSUMER_NAME_cd', 'DEAL_DERIVED',\n",
    "       'DEAL_DERIVED_cd', 'year'<br>\n",
    "**product attributes branded pack** <br>\n",
    "**product descriptions** <br>\n",
    "'upc', 'product_descr', 'product_module_code', 'product_module_descr',\n",
    "       'multi', 'year'<br>\n",
    "**product hierarchy** <br>\n",
    "'upc', 'year', 'super_category', 'super_category_cd', 'category',\n",
    "       'category_cd', 'sub_category', 'sub_category_cd', 'segment',\n",
    "       'segment_cd', 'department', 'department_cd'<br>\n",
    "\n",
    "2004-2020 <br>\n",
    "**products extra:** <br>\n",
    "'upc', 'upc_ver_uc', 'panel_year', 'flavor_code', 'flavor_descr',\n",
    "       'form_code', 'form_descr', 'formula_code', 'formula_descr',\n",
    "       'container_code', 'container_descr', 'salt_content_code',\n",
    "       'salt_content_descr', 'style_code', 'style_descr', 'type_code',\n",
    "       'type_descr', 'product_code', 'product_descr', 'variety_code',\n",
    "       'variety_descr', 'organic_claim_code', 'organic_claim_descr',\n",
    "       'usda_organic_seal_code', 'usda_organic_seal_descr',\n",
    "       'common_consumer_name_code', 'common_consumer_name_descr',\n",
    "       'strength_code', 'strength_descr', 'scent_code', 'scent_descr',\n",
    "       'dosage_code', 'dosage_descr', 'gender_code', 'gender_descr',\n",
    "       'target_skin_condition_code', 'target_skin_condition_descr', 'use_code',\n",
    "       'use_descr', 'size2_code', 'size2_amount', 'size2_units'<br>\n",
    "**products master:** <br>\n",
    "'upc', 'upc_ver_uc', 'upc_descr', 'product_module_code',\n",
    "       'product_module_descr', 'product_group_code', 'product_group_descr',\n",
    "       'department_code', 'department_descr', 'brand_code_uc', 'brand_descr',\n",
    "       'multi', 'size1_code_uc', 'size1_amount', 'size1_units',\n",
    "       'dataset_found_uc', 'size1_change_flag_uc'\n"
   ]
  },
  {
   "cell_type": "code",
   "execution_count": 439,
   "id": "aad84fc1",
   "metadata": {
    "ExecuteTime": {
     "end_time": "2024-03-04T12:19:50.003990Z",
     "start_time": "2024-03-04T12:19:49.963000Z"
    }
   },
   "outputs": [
    {
     "data": {
      "text/plain": [
       "array([nan, 'SALTED', 'REGULAR', 'NO SALT', 'LESS SODIUM', 'LOW SALT',\n",
       "       'REDUCED SODIUM', 'LOW SODIUM', 'LOWER SALT', 'LIGHTLY SALTED',\n",
       "       'ASSORTED', 'UNSALTED', 'LOW SALT LOW SODIUM', 'NOT DEFINED',\n",
       "       'LESS SALT'], dtype=object)"
      ]
     },
     "execution_count": 439,
     "metadata": {},
     "output_type": "execute_result"
    }
   ],
   "source": [
    "df_products.salt_content_descr.unique()"
   ]
  },
  {
   "cell_type": "markdown",
   "id": "5c3ce001",
   "metadata": {},
   "source": [
    "### clean product data\n"
   ]
  },
  {
   "cell_type": "markdown",
   "id": "5e7d34d7",
   "metadata": {},
   "source": [
    "#### batch 1"
   ]
  },
  {
   "cell_type": "code",
   "execution_count": 92,
   "id": "db3b7870",
   "metadata": {
    "ExecuteTime": {
     "end_time": "2024-03-17T17:26:06.745678Z",
     "start_time": "2024-03-17T17:26:06.731374Z"
    }
   },
   "outputs": [],
   "source": [
    "products_extra_cols = {'upc':\"category\", \n",
    "                       'upc_ver_uc': \"category\", \n",
    "                       'panel_year':\"category\",\n",
    "                      'gender_code': \"category\",\n",
    "                      'gender_descr': str}\n",
    "products_master_cols = {'upc':\"category\", \n",
    "                       'upc_ver_uc':\"category\", \n",
    "                        'upc_descr': str,\n",
    "                        'product_module_code': \"category\", \n",
    "                        'product_module_descr': str, \n",
    "                        'product_group_code': \"category\", \n",
    "                        'product_group_descr': str, \n",
    "                        'department_code': \"category\", \n",
    "                        'department_descr': str, \n",
    "                        'brand_code_uc' : \"category\",\n",
    "                        'brand_descr' : str\n",
    "                       }"
   ]
  },
  {
   "cell_type": "code",
   "execution_count": 93,
   "id": "d5938e15",
   "metadata": {
    "ExecuteTime": {
     "end_time": "2024-03-17T17:26:20.606386Z",
     "start_time": "2024-03-17T17:26:17.860040Z"
    }
   },
   "outputs": [],
   "source": [
    "# 2004-2020 product extra data\n",
    "year_paths = {year: f'{year}/Annual_Files/products_extra_{year}.tsv' for year in range(2006, 2007)}\n",
    "\n",
    "dfs = []\n",
    "for year, path in year_paths.items():\n",
    "    df = pd.read_csv(path, sep='\\t', usecols=products_extra_cols.keys(), \n",
    "                     dtype=products_extra_cols)\n",
    "    dfs.append(df)\n",
    "# Concatenate all DataFrames into one\n",
    "df_products_extra_batch1 = pd.concat(dfs, ignore_index=True)"
   ]
  },
  {
   "cell_type": "code",
   "execution_count": 94,
   "id": "e42ab725",
   "metadata": {
    "ExecuteTime": {
     "end_time": "2024-03-17T17:26:40.064015Z",
     "start_time": "2024-03-17T17:26:22.185999Z"
    }
   },
   "outputs": [],
   "source": [
    "# 2004-2020 product master data\n",
    "with open('master/products.tsv','r', encoding='ISO-8859-1') as file:\n",
    "    df_products_m = pd.read_csv(file, sep='\\t',\n",
    "                               usecols = products_master_cols.keys(),\n",
    "                               dtype = products_master_cols)"
   ]
  },
  {
   "cell_type": "code",
   "execution_count": 95,
   "id": "3d550c67",
   "metadata": {
    "ExecuteTime": {
     "end_time": "2024-03-17T17:26:46.389169Z",
     "start_time": "2024-03-17T17:26:41.748228Z"
    }
   },
   "outputs": [],
   "source": [
    "df_products_batch1 = pd.merge(df_products_extra_batch1,\n",
    "                             df_products_m,\n",
    "                             on = ['upc','upc_ver_uc'],\n",
    "                             how=\"inner\")"
   ]
  },
  {
   "cell_type": "markdown",
   "id": "9c0b0ccf",
   "metadata": {},
   "source": [
    "#### batch 2"
   ]
  },
  {
   "cell_type": "code",
   "execution_count": 100,
   "id": "b4438197",
   "metadata": {
    "ExecuteTime": {
     "end_time": "2024-03-17T17:27:45.130570Z",
     "start_time": "2024-03-17T17:27:45.127814Z"
    }
   },
   "outputs": [],
   "source": [
    "product_desc_2021_cols = {'upc': \"category\", \n",
    "                          'product_descr': str, \n",
    "                          'product_module_code': \"category\", \n",
    "                          'product_module_descr': str, \n",
    "                          'year': int}\n",
    "\n"
   ]
  },
  {
   "cell_type": "code",
   "execution_count": 101,
   "id": "4cb21c72",
   "metadata": {
    "ExecuteTime": {
     "end_time": "2024-03-17T17:27:46.427754Z",
     "start_time": "2024-03-17T17:27:46.413467Z"
    }
   },
   "outputs": [],
   "source": [
    "product_atr_2021_cols = {'upc': \"category\", \n",
    "                         'BRAND':str, \n",
    "                         'BRAND_cd': \"category\", \n",
    "                         'PROTEIN_GRAM':str,\n",
    "                         'PROTEIN_GRAM_cd': \"category\", \n",
    "                         'CHOLESTEROL':str, \n",
    "                         'CHOLESTEROL_cd': \"category\", \n",
    "                         'SODIUM_PRESENCE_CLAIM':str, \n",
    "                         'SODIUM_PRESENCE_CLAIM_cd': \"category\", \n",
    "                         'FAT_CALORIE_PER_SERVING_SIZE':str, \n",
    "                         'FAT_CALORIE_PER_SERVING_SIZE_cd': \"category\", \n",
    "                         'SUGAR_GRAM':str, \n",
    "                         'SUGAR_GRAM_cd': \"category\",\n",
    "                         'TRANS_FAT_GRAM':str, \n",
    "                         'TRANS_FAT_GRAM_cd': \"category\",\n",
    "                         'CALORIES_PER_SERVING_SIZE':str, \n",
    "                         'CALORIES_PER_SERVING_SIZE_cd': \"category\",\n",
    "                         'GENETIC_MODIFICATION_CLAIM':str, \n",
    "                         'GENETIC_MODIFICATION_CLAIM_cd': \"category\", \n",
    "                         'TOTAL_CARBOHYDRATE_GRAM':str, \n",
    "                         'TOTAL_CARBOHYDRATE_GRAM_cd': \"category\",\n",
    "                         'TARGET_GROUP_GENDER':str, \n",
    "                         'TARGET_GROUP_GENDER_cd': \"category\",\n",
    "                         'TOTAL_FAT_GRAM':str, \n",
    "                         'TOTAL_FAT_GRAM_cd': \"category\",\n",
    "                         'year':int\n",
    "                         }"
   ]
  },
  {
   "cell_type": "code",
   "execution_count": 102,
   "id": "86cb7987",
   "metadata": {
    "ExecuteTime": {
     "end_time": "2024-03-17T17:27:48.934712Z",
     "start_time": "2024-03-17T17:27:48.927563Z"
    }
   },
   "outputs": [],
   "source": [
    "product_hierarchy_2021_cols = {'upc':'category', \n",
    "                               'year':int, \n",
    "                               'super_category':str, \n",
    "                               'super_category_cd':'category', \n",
    "                               'category':str, \n",
    "                               'category_cd':'category', \n",
    "                               'sub_category':str, \n",
    "                               'sub_category_cd':'category', \n",
    "                               'segment':str, \n",
    "                               'segment_cd':'category', \n",
    "                               'department':str, \n",
    "                               'department_cd':'category'}"
   ]
  },
  {
   "cell_type": "code",
   "execution_count": 103,
   "id": "0dcbece8",
   "metadata": {
    "ExecuteTime": {
     "end_time": "2024-03-17T17:28:20.627058Z",
     "start_time": "2024-03-17T17:27:55.679254Z"
    }
   },
   "outputs": [],
   "source": [
    "with open('2021/Annual_Files/productdesc.tsv','r') as file:\n",
    "    df_products_des2021 = pd.read_csv(file, sep='\\t',\n",
    "                                     usecols=product_desc_2021_cols.keys(),\n",
    "                                     dtype=product_desc_2021_cols)"
   ]
  },
  {
   "cell_type": "code",
   "execution_count": 104,
   "id": "85e643e7",
   "metadata": {
    "ExecuteTime": {
     "end_time": "2024-03-17T17:29:24.318661Z",
     "start_time": "2024-03-17T17:28:20.629581Z"
    }
   },
   "outputs": [],
   "source": [
    "with open('2021/Annual_Files/productattributes.tsv','r') as file:\n",
    "    df_products_atr2021 = pd.read_csv(file, sep='\\t',\n",
    "                                     usecols=product_atr_2021_cols.keys(),\n",
    "                                     dtype=product_atr_2021_cols)"
   ]
  },
  {
   "cell_type": "code",
   "execution_count": 105,
   "id": "bbf024e9",
   "metadata": {
    "ExecuteTime": {
     "end_time": "2024-03-17T17:29:49.119968Z",
     "start_time": "2024-03-17T17:29:24.322161Z"
    }
   },
   "outputs": [],
   "source": [
    "with open('2021/Annual_Files/producthierarchy.tsv','r') as file:\n",
    "    df_products_hierarchy2021 = pd.read_csv(file, sep='\\t',\n",
    "                                     usecols=product_hierarchy_2021_cols.keys(),\n",
    "                                     dtype=product_hierarchy_2021_cols)"
   ]
  },
  {
   "cell_type": "code",
   "execution_count": 106,
   "id": "e9b60074",
   "metadata": {
    "ExecuteTime": {
     "end_time": "2024-03-17T17:30:49.836975Z",
     "start_time": "2024-03-17T17:29:49.122501Z"
    }
   },
   "outputs": [],
   "source": [
    "df_products_batch2 = pd.merge(pd.merge(df_products_des2021,df_products_atr2021,on=\"upc\",how=\"inner\"),\n",
    "                              df_products_hierarchy2021,\n",
    "                              on=\"upc\",\n",
    "                              how=\"inner\"\n",
    "                             )\n",
    "\n",
    "df_products_batch2.columns = df_products_batch2.columns.str.lower() "
   ]
  },
  {
   "cell_type": "code",
   "execution_count": 156,
   "id": "c21f6afa",
   "metadata": {
    "ExecuteTime": {
     "end_time": "2024-03-23T14:36:33.831934Z",
     "start_time": "2024-03-23T14:36:29.751655Z"
    },
    "scrolled": true
   },
   "outputs": [
    {
     "data": {
      "text/html": [
       "<div>\n",
       "<style scoped>\n",
       "    .dataframe tbody tr th:only-of-type {\n",
       "        vertical-align: middle;\n",
       "    }\n",
       "\n",
       "    .dataframe tbody tr th {\n",
       "        vertical-align: top;\n",
       "    }\n",
       "\n",
       "    .dataframe thead th {\n",
       "        text-align: right;\n",
       "    }\n",
       "</style>\n",
       "<table border=\"1\" class=\"dataframe\">\n",
       "  <thead>\n",
       "    <tr style=\"text-align: right;\">\n",
       "      <th></th>\n",
       "      <th>upc</th>\n",
       "      <th>product_descr</th>\n",
       "      <th>product_module_code</th>\n",
       "      <th>product_module_descr</th>\n",
       "      <th>year_x</th>\n",
       "      <th>brand</th>\n",
       "      <th>brand_cd</th>\n",
       "      <th>protein_gram</th>\n",
       "      <th>protein_gram_cd</th>\n",
       "      <th>cholesterol</th>\n",
       "      <th>...</th>\n",
       "      <th>super_category</th>\n",
       "      <th>super_category_cd</th>\n",
       "      <th>category</th>\n",
       "      <th>category_cd</th>\n",
       "      <th>sub_category</th>\n",
       "      <th>sub_category_cd</th>\n",
       "      <th>segment</th>\n",
       "      <th>segment_cd</th>\n",
       "      <th>department</th>\n",
       "      <th>department_cd</th>\n",
       "    </tr>\n",
       "  </thead>\n",
       "  <tbody>\n",
       "    <tr>\n",
       "      <th>0</th>\n",
       "      <td>417582825172</td>\n",
       "      <td>NO BRAND LISTED SEASONED RAW MEAT SOUTHWESTERN...</td>\n",
       "      <td>1648</td>\n",
       "      <td>PERISHABLE PREPARED MEAL SINGLE CRS</td>\n",
       "      <td>2021</td>\n",
       "      <td>NO BRAND LISTED (NO COMPANY LISTED)</td>\n",
       "      <td>900000007064361</td>\n",
       "      <td>NaN</td>\n",
       "      <td>NaN</td>\n",
       "      <td>NaN</td>\n",
       "      <td>...</td>\n",
       "      <td>FRESH MEAT</td>\n",
       "      <td>99525538</td>\n",
       "      <td>BEEF</td>\n",
       "      <td>99531067</td>\n",
       "      <td>FRESH GROUND</td>\n",
       "      <td>99535786</td>\n",
       "      <td>GROUND BEEF PATTIES</td>\n",
       "      <td>99525659</td>\n",
       "      <td>MEAT</td>\n",
       "      <td>99527957</td>\n",
       "    </tr>\n",
       "    <tr>\n",
       "      <th>1</th>\n",
       "      <td>007627600002</td>\n",
       "      <td>HOLLY HOT DOG UNFLAVORED BEEF CHICKEN PORK WRA...</td>\n",
       "      <td>3576</td>\n",
       "      <td>FRANKFURTERS REFRIGERATED</td>\n",
       "      <td>2021</td>\n",
       "      <td>HOLLY (BROWN PACKING)</td>\n",
       "      <td>145332184</td>\n",
       "      <td>8 GRAM</td>\n",
       "      <td>66226483</td>\n",
       "      <td>45 MILLIGRAM</td>\n",
       "      <td>...</td>\n",
       "      <td>PROCESSED MEAT</td>\n",
       "      <td>99531225</td>\n",
       "      <td>FRANKFURTER</td>\n",
       "      <td>99529817</td>\n",
       "      <td>MEAT BLEND</td>\n",
       "      <td>99531475</td>\n",
       "      <td>MEAT BLEND</td>\n",
       "      <td>99525359</td>\n",
       "      <td>MEAT</td>\n",
       "      <td>99527957</td>\n",
       "    </tr>\n",
       "    <tr>\n",
       "      <th>2</th>\n",
       "      <td>009313300205</td>\n",
       "      <td>MIKEE SALSA UNFLAVORED MANGO SALSA JAR 16 OUNCE</td>\n",
       "      <td>1114</td>\n",
       "      <td>MEXICAN SAUCE</td>\n",
       "      <td>2021</td>\n",
       "      <td>MIKEE (EXOTIC SAUCE PACKAGING)</td>\n",
       "      <td>127645786</td>\n",
       "      <td>0 GRAM</td>\n",
       "      <td>65262226</td>\n",
       "      <td>0 MILLIGRAM</td>\n",
       "      <td>...</td>\n",
       "      <td>DIPS/SPREADS</td>\n",
       "      <td>99530652</td>\n",
       "      <td>DIPS</td>\n",
       "      <td>99524771</td>\n",
       "      <td>SALSA</td>\n",
       "      <td>99524560</td>\n",
       "      <td>SALSA</td>\n",
       "      <td>99524209</td>\n",
       "      <td>GROCERY</td>\n",
       "      <td>99015162</td>\n",
       "    </tr>\n",
       "    <tr>\n",
       "      <th>3</th>\n",
       "      <td>005333432675</td>\n",
       "      <td>UPPER DECK SPORT CARD MAJOR LEAGUE BASEBALL BA...</td>\n",
       "      <td>7572</td>\n",
       "      <td>SPORTS AND NOVELTY CARDS</td>\n",
       "      <td>2021</td>\n",
       "      <td>UPPER DECK</td>\n",
       "      <td>182664971</td>\n",
       "      <td>NaN</td>\n",
       "      <td>NaN</td>\n",
       "      <td>NaN</td>\n",
       "      <td>...</td>\n",
       "      <td>READING AND HOBBY</td>\n",
       "      <td>99530289</td>\n",
       "      <td>SPORTS AND NOVELTY CARD</td>\n",
       "      <td>99536874</td>\n",
       "      <td>SPORTS AND NOVELTY CARD</td>\n",
       "      <td>99530850</td>\n",
       "      <td>SPORTS AND NOVELTY CARD</td>\n",
       "      <td>99533861</td>\n",
       "      <td>GENERAL MERCHANDISE</td>\n",
       "      <td>99536672</td>\n",
       "    </tr>\n",
       "    <tr>\n",
       "      <th>4</th>\n",
       "      <td>200030065320</td>\n",
       "      <td>CTL BR PRTN SPLM SMTH DRNK MIX MXD BRY PWDR JA...</td>\n",
       "      <td>8415</td>\n",
       "      <td>PROTEIN SUPPLEMENTS</td>\n",
       "      <td>2021</td>\n",
       "      <td>MASKED</td>\n",
       "      <td>37702864</td>\n",
       "      <td>NOT STATED</td>\n",
       "      <td>65278109</td>\n",
       "      <td>NOT STATED</td>\n",
       "      <td>...</td>\n",
       "      <td>DIET AND NUTRITION</td>\n",
       "      <td>99526854</td>\n",
       "      <td>HEALTH/NUTRITION POWDER</td>\n",
       "      <td>99535002</td>\n",
       "      <td>HEALTH/NUTRITION POWDER</td>\n",
       "      <td>99535124</td>\n",
       "      <td>REMAINING FLAVOR</td>\n",
       "      <td>99038917</td>\n",
       "      <td>GROCERY</td>\n",
       "      <td>99015162</td>\n",
       "    </tr>\n",
       "    <tr>\n",
       "      <th>...</th>\n",
       "      <td>...</td>\n",
       "      <td>...</td>\n",
       "      <td>...</td>\n",
       "      <td>...</td>\n",
       "      <td>...</td>\n",
       "      <td>...</td>\n",
       "      <td>...</td>\n",
       "      <td>...</td>\n",
       "      <td>...</td>\n",
       "      <td>...</td>\n",
       "      <td>...</td>\n",
       "      <td>...</td>\n",
       "      <td>...</td>\n",
       "      <td>...</td>\n",
       "      <td>...</td>\n",
       "      <td>...</td>\n",
       "      <td>...</td>\n",
       "      <td>...</td>\n",
       "      <td>...</td>\n",
       "      <td>...</td>\n",
       "      <td>...</td>\n",
       "    </tr>\n",
       "    <tr>\n",
       "      <th>8232919</th>\n",
       "      <td>200030063891</td>\n",
       "      <td>CTL BR EXTR LGHT IDL STNG BKNG FRYN CLN DLCT T...</td>\n",
       "      <td>1193</td>\n",
       "      <td>OLIVE OIL</td>\n",
       "      <td>2021</td>\n",
       "      <td>MASKED</td>\n",
       "      <td>59791021</td>\n",
       "      <td>0 GRAM</td>\n",
       "      <td>65262226</td>\n",
       "      <td>0 MILLIGRAM</td>\n",
       "      <td>...</td>\n",
       "      <td>OILS/BUTTER/MARGARINE SPREADS/SUBSTITUTES</td>\n",
       "      <td>99261510</td>\n",
       "      <td>COOKING OIL</td>\n",
       "      <td>99261434</td>\n",
       "      <td>OLIVE</td>\n",
       "      <td>99261461</td>\n",
       "      <td>LIGHT GRADE</td>\n",
       "      <td>99261512</td>\n",
       "      <td>GROCERY</td>\n",
       "      <td>99015162</td>\n",
       "    </tr>\n",
       "    <tr>\n",
       "      <th>8232920</th>\n",
       "      <td>007819204883</td>\n",
       "      <td>GUNDELSHEIM PICKLE DILL WHOLE JAR 35.9 FLUID O...</td>\n",
       "      <td>1168</td>\n",
       "      <td>PICKLES DILL</td>\n",
       "      <td>2021</td>\n",
       "      <td>GUNDELSHEIM</td>\n",
       "      <td>266947</td>\n",
       "      <td>0 GRAM</td>\n",
       "      <td>65262226</td>\n",
       "      <td>NOT COLLECTED</td>\n",
       "      <td>...</td>\n",
       "      <td>OLIVES/CAPERS/PICKLED&amp;MARINATED VEGETABLES</td>\n",
       "      <td>99528912</td>\n",
       "      <td>PICKLES</td>\n",
       "      <td>99533414</td>\n",
       "      <td>DILL PICKLES</td>\n",
       "      <td>99527503</td>\n",
       "      <td>WHOLE</td>\n",
       "      <td>99531504</td>\n",
       "      <td>GROCERY</td>\n",
       "      <td>99015162</td>\n",
       "    </tr>\n",
       "    <tr>\n",
       "      <th>8232921</th>\n",
       "      <td>082530790379</td>\n",
       "      <td>VENTURA MARKETING LOOKING THROUGH LILLIAN 83 M...</td>\n",
       "      <td>8900</td>\n",
       "      <td>VIDEO PRODUCTS PRERECORDED</td>\n",
       "      <td>2021</td>\n",
       "      <td>VENTURA MARKETING (VENTURA MARKETING)</td>\n",
       "      <td>900000007108938</td>\n",
       "      <td>NaN</td>\n",
       "      <td>NaN</td>\n",
       "      <td>NaN</td>\n",
       "      <td>...</td>\n",
       "      <td>ELECTRONICS</td>\n",
       "      <td>99530276</td>\n",
       "      <td>PRE-RECORDED DVD</td>\n",
       "      <td>99529140</td>\n",
       "      <td>ALL OTHER VIDEOS</td>\n",
       "      <td>99526581</td>\n",
       "      <td>ALL OTHER VIDEOS</td>\n",
       "      <td>99524561</td>\n",
       "      <td>GENERAL MERCHANDISE</td>\n",
       "      <td>99536672</td>\n",
       "    </tr>\n",
       "    <tr>\n",
       "      <th>8232922</th>\n",
       "      <td>084337004527</td>\n",
       "      <td>GIMME CLIPS HAIR CLIP SNAP 1 COUNT</td>\n",
       "      <td>6009</td>\n",
       "      <td>HAIR CARE AND FASHION ACCESSORY</td>\n",
       "      <td>2021</td>\n",
       "      <td>GIMME</td>\n",
       "      <td>68313856</td>\n",
       "      <td>NaN</td>\n",
       "      <td>NaN</td>\n",
       "      <td>NaN</td>\n",
       "      <td>...</td>\n",
       "      <td>HAIR CARE</td>\n",
       "      <td>99524777</td>\n",
       "      <td>HAIR ACCESSORIES</td>\n",
       "      <td>99527307</td>\n",
       "      <td>BARRETTES AND CLIPS</td>\n",
       "      <td>99536559</td>\n",
       "      <td>BARRETTES AND CLIPS</td>\n",
       "      <td>99531865</td>\n",
       "      <td>HEALTH &amp; BEAUTY CARE</td>\n",
       "      <td>99526707</td>\n",
       "    </tr>\n",
       "    <tr>\n",
       "      <th>8232923</th>\n",
       "      <td>200030064399</td>\n",
       "      <td>CTL BR BF PZL BLY TWST NTRL BAG GD DGS TTH TRT...</td>\n",
       "      <td>7454</td>\n",
       "      <td>PET CARE RAWHIDE AND CHEW PRODUCTS</td>\n",
       "      <td>2021</td>\n",
       "      <td>MASKED</td>\n",
       "      <td>104875696</td>\n",
       "      <td>NaN</td>\n",
       "      <td>NaN</td>\n",
       "      <td>NaN</td>\n",
       "      <td>...</td>\n",
       "      <td>PET FOOD</td>\n",
       "      <td>99525764</td>\n",
       "      <td>DOG FOOD</td>\n",
       "      <td>99535973</td>\n",
       "      <td>DOG TREATS</td>\n",
       "      <td>99533056</td>\n",
       "      <td>RAWHIDE</td>\n",
       "      <td>99528353</td>\n",
       "      <td>PET CARE</td>\n",
       "      <td>99524781</td>\n",
       "    </tr>\n",
       "  </tbody>\n",
       "</table>\n",
       "<p>8232924 rows × 41 columns</p>\n",
       "</div>"
      ],
      "text/plain": [
       "                  upc                                      product_descr  \\\n",
       "0        417582825172  NO BRAND LISTED SEASONED RAW MEAT SOUTHWESTERN...   \n",
       "1        007627600002  HOLLY HOT DOG UNFLAVORED BEEF CHICKEN PORK WRA...   \n",
       "2        009313300205    MIKEE SALSA UNFLAVORED MANGO SALSA JAR 16 OUNCE   \n",
       "3        005333432675  UPPER DECK SPORT CARD MAJOR LEAGUE BASEBALL BA...   \n",
       "4        200030065320  CTL BR PRTN SPLM SMTH DRNK MIX MXD BRY PWDR JA...   \n",
       "...               ...                                                ...   \n",
       "8232919  200030063891  CTL BR EXTR LGHT IDL STNG BKNG FRYN CLN DLCT T...   \n",
       "8232920  007819204883  GUNDELSHEIM PICKLE DILL WHOLE JAR 35.9 FLUID O...   \n",
       "8232921  082530790379  VENTURA MARKETING LOOKING THROUGH LILLIAN 83 M...   \n",
       "8232922  084337004527                 GIMME CLIPS HAIR CLIP SNAP 1 COUNT   \n",
       "8232923  200030064399  CTL BR BF PZL BLY TWST NTRL BAG GD DGS TTH TRT...   \n",
       "\n",
       "        product_module_code                 product_module_descr  year_x  \\\n",
       "0                      1648  PERISHABLE PREPARED MEAL SINGLE CRS    2021   \n",
       "1                      3576            FRANKFURTERS REFRIGERATED    2021   \n",
       "2                      1114                        MEXICAN SAUCE    2021   \n",
       "3                      7572             SPORTS AND NOVELTY CARDS    2021   \n",
       "4                      8415                  PROTEIN SUPPLEMENTS    2021   \n",
       "...                     ...                                  ...     ...   \n",
       "8232919                1193                            OLIVE OIL    2021   \n",
       "8232920                1168                         PICKLES DILL    2021   \n",
       "8232921                8900           VIDEO PRODUCTS PRERECORDED    2021   \n",
       "8232922                6009      HAIR CARE AND FASHION ACCESSORY    2021   \n",
       "8232923                7454   PET CARE RAWHIDE AND CHEW PRODUCTS    2021   \n",
       "\n",
       "                                         brand         brand_cd protein_gram  \\\n",
       "0          NO BRAND LISTED (NO COMPANY LISTED)  900000007064361          NaN   \n",
       "1                        HOLLY (BROWN PACKING)        145332184       8 GRAM   \n",
       "2               MIKEE (EXOTIC SAUCE PACKAGING)        127645786       0 GRAM   \n",
       "3                                   UPPER DECK        182664971          NaN   \n",
       "4                                       MASKED         37702864   NOT STATED   \n",
       "...                                        ...              ...          ...   \n",
       "8232919                                 MASKED         59791021       0 GRAM   \n",
       "8232920                            GUNDELSHEIM           266947       0 GRAM   \n",
       "8232921  VENTURA MARKETING (VENTURA MARKETING)  900000007108938          NaN   \n",
       "8232922                                  GIMME         68313856          NaN   \n",
       "8232923                                 MASKED        104875696          NaN   \n",
       "\n",
       "        protein_gram_cd    cholesterol  ...  \\\n",
       "0                   NaN            NaN  ...   \n",
       "1              66226483   45 MILLIGRAM  ...   \n",
       "2              65262226    0 MILLIGRAM  ...   \n",
       "3                   NaN            NaN  ...   \n",
       "4              65278109     NOT STATED  ...   \n",
       "...                 ...            ...  ...   \n",
       "8232919        65262226    0 MILLIGRAM  ...   \n",
       "8232920        65262226  NOT COLLECTED  ...   \n",
       "8232921             NaN            NaN  ...   \n",
       "8232922             NaN            NaN  ...   \n",
       "8232923             NaN            NaN  ...   \n",
       "\n",
       "                                     super_category super_category_cd  \\\n",
       "0                                        FRESH MEAT          99525538   \n",
       "1                                    PROCESSED MEAT          99531225   \n",
       "2                                      DIPS/SPREADS          99530652   \n",
       "3                                 READING AND HOBBY          99530289   \n",
       "4                                DIET AND NUTRITION          99526854   \n",
       "...                                             ...               ...   \n",
       "8232919   OILS/BUTTER/MARGARINE SPREADS/SUBSTITUTES          99261510   \n",
       "8232920  OLIVES/CAPERS/PICKLED&MARINATED VEGETABLES          99528912   \n",
       "8232921                                 ELECTRONICS          99530276   \n",
       "8232922                                   HAIR CARE          99524777   \n",
       "8232923                                    PET FOOD          99525764   \n",
       "\n",
       "                        category category_cd             sub_category  \\\n",
       "0                           BEEF    99531067             FRESH GROUND   \n",
       "1                    FRANKFURTER    99529817               MEAT BLEND   \n",
       "2                           DIPS    99524771                    SALSA   \n",
       "3        SPORTS AND NOVELTY CARD    99536874  SPORTS AND NOVELTY CARD   \n",
       "4        HEALTH/NUTRITION POWDER    99535002  HEALTH/NUTRITION POWDER   \n",
       "...                          ...         ...                      ...   \n",
       "8232919              COOKING OIL    99261434                    OLIVE   \n",
       "8232920                  PICKLES    99533414             DILL PICKLES   \n",
       "8232921         PRE-RECORDED DVD    99529140         ALL OTHER VIDEOS   \n",
       "8232922         HAIR ACCESSORIES    99527307      BARRETTES AND CLIPS   \n",
       "8232923                 DOG FOOD    99535973               DOG TREATS   \n",
       "\n",
       "        sub_category_cd                  segment segment_cd  \\\n",
       "0              99535786      GROUND BEEF PATTIES   99525659   \n",
       "1              99531475               MEAT BLEND   99525359   \n",
       "2              99524560                    SALSA   99524209   \n",
       "3              99530850  SPORTS AND NOVELTY CARD   99533861   \n",
       "4              99535124         REMAINING FLAVOR   99038917   \n",
       "...                 ...                      ...        ...   \n",
       "8232919        99261461              LIGHT GRADE   99261512   \n",
       "8232920        99527503                    WHOLE   99531504   \n",
       "8232921        99526581         ALL OTHER VIDEOS   99524561   \n",
       "8232922        99536559      BARRETTES AND CLIPS   99531865   \n",
       "8232923        99533056                  RAWHIDE   99528353   \n",
       "\n",
       "                   department department_cd  \n",
       "0                        MEAT      99527957  \n",
       "1                        MEAT      99527957  \n",
       "2                     GROCERY      99015162  \n",
       "3         GENERAL MERCHANDISE      99536672  \n",
       "4                     GROCERY      99015162  \n",
       "...                       ...           ...  \n",
       "8232919               GROCERY      99015162  \n",
       "8232920               GROCERY      99015162  \n",
       "8232921   GENERAL MERCHANDISE      99536672  \n",
       "8232922  HEALTH & BEAUTY CARE      99526707  \n",
       "8232923              PET CARE      99524781  \n",
       "\n",
       "[8232924 rows x 41 columns]"
      ]
     },
     "execution_count": 156,
     "metadata": {},
     "output_type": "execute_result"
    }
   ],
   "source": [
    "df_products_batch2"
   ]
  },
  {
   "cell_type": "code",
   "execution_count": null,
   "id": "4e4db37c",
   "metadata": {},
   "outputs": [],
   "source": []
  }
 ],
 "metadata": {
  "kernelspec": {
   "display_name": "Python 3 (ipykernel)",
   "language": "python",
   "name": "python3"
  },
  "language_info": {
   "codemirror_mode": {
    "name": "ipython",
    "version": 3
   },
   "file_extension": ".py",
   "mimetype": "text/x-python",
   "name": "python",
   "nbconvert_exporter": "python",
   "pygments_lexer": "ipython3",
   "version": "3.11.3"
  },
  "toc": {
   "base_numbering": 1,
   "nav_menu": {},
   "number_sections": true,
   "sideBar": true,
   "skip_h1_title": false,
   "title_cell": "Table of Contents",
   "title_sidebar": "Contents",
   "toc_cell": false,
   "toc_position": {
    "height": "calc(100% - 180px)",
    "left": "10px",
    "top": "150px",
    "width": "306px"
   },
   "toc_section_display": true,
   "toc_window_display": true
  }
 },
 "nbformat": 4,
 "nbformat_minor": 5
}
